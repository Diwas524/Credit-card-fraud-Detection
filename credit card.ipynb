{
 "cells": [
  {
   "cell_type": "raw",
   "metadata": {},
   "source": [
    "The Credit Card Fraud Detection project is used to identify whether a new transaction is fraudulent or not  by  modeling past credit card transactions with the knowledge of the ones that turned out to be fraud. We will use various predictive models to see how accurate they are in detecting whether a transaction is a normal payment or a fraud.  \n",
    "Classification techniques are the promising solutions to detect the fraud and non-fraud transactions. Unfortunately, in a certain condition, classification techniques do not perform well when it comes to huge numbers of differences in data distribution. "
   ]
  },
  {
   "cell_type": "code",
   "execution_count": 18,
   "metadata": {},
   "outputs": [],
   "source": [
    "#import libraries\n",
    "%matplotlib inline\n",
    "import scipy.stats as stats\n",
    "import numpy as np\n",
    "import pandas as pd\n"
   ]
  },
  {
   "cell_type": "raw",
   "metadata": {},
   "source": [
    "We are using the datasets provided by Kaggle. This data set includes all transactions recorded over the course of two days. As described in the dataset, the features are scaled and the names of the features are not shown due to privacy reasons."
   ]
  },
  {
   "cell_type": "code",
   "execution_count": 19,
   "metadata": {},
   "outputs": [],
   "source": [
    "data = pd.read_csv('creditcard.csv')"
   ]
  },
  {
   "cell_type": "code",
   "execution_count": 20,
   "metadata": {
    "scrolled": true
   },
   "outputs": [
    {
     "name": "stdout",
     "output_type": "stream",
     "text": [
      "<class 'pandas.core.frame.DataFrame'>\n",
      "RangeIndex: 284807 entries, 0 to 284806\n",
      "Data columns (total 31 columns):\n",
      "Time      284807 non-null float64\n",
      "V1        284807 non-null float64\n",
      "V2        284807 non-null float64\n",
      "V3        284807 non-null float64\n",
      "V4        284807 non-null float64\n",
      "V5        284807 non-null float64\n",
      "V6        284807 non-null float64\n",
      "V7        284807 non-null float64\n",
      "V8        284807 non-null float64\n",
      "V9        284807 non-null float64\n",
      "V10       284807 non-null float64\n",
      "V11       284807 non-null float64\n",
      "V12       284807 non-null float64\n",
      "V13       284807 non-null float64\n",
      "V14       284807 non-null float64\n",
      "V15       284807 non-null float64\n",
      "V16       284807 non-null float64\n",
      "V17       284807 non-null float64\n",
      "V18       284807 non-null float64\n",
      "V19       284807 non-null float64\n",
      "V20       284807 non-null float64\n",
      "V21       284807 non-null float64\n",
      "V22       284807 non-null float64\n",
      "V23       284807 non-null float64\n",
      "V24       284807 non-null float64\n",
      "V25       284807 non-null float64\n",
      "V26       284807 non-null float64\n",
      "V27       284807 non-null float64\n",
      "V28       284807 non-null float64\n",
      "Amount    284807 non-null float64\n",
      "Class     284807 non-null int64\n",
      "dtypes: float64(30), int64(1)\n",
      "memory usage: 67.4 MB\n"
     ]
    }
   ],
   "source": [
    "data.info()"
   ]
  },
  {
   "cell_type": "raw",
   "metadata": {},
   "source": [
    "The dataset consists of numerical values from the 28 ‘Principal Component Analysis (PCA)’ transformed features, namely V1 to V28. Furthermore, there is no metadata about the original features provided, so pre-analysis or feature study could not be done."
   ]
  },
  {
   "cell_type": "code",
   "execution_count": null,
   "metadata": {},
   "outputs": [],
   "source": [
    "data.head()"
   ]
  },
  {
   "cell_type": "code",
   "execution_count": 3,
   "metadata": {},
   "outputs": [
    {
     "name": "stdout",
     "output_type": "stream",
     "text": [
      "(284807, 31)\n"
     ]
    }
   ],
   "source": [
    "print(data.shape)"
   ]
  },
  {
   "cell_type": "raw",
   "metadata": {},
   "source": [
    "There are 284807 records. The only thing we know is that those columns that are unknown have been scaled already."
   ]
  },
  {
   "cell_type": "code",
   "execution_count": 4,
   "metadata": {},
   "outputs": [
    {
     "data": {
      "text/plain": [
       "False"
      ]
     },
     "execution_count": 4,
     "metadata": {},
     "output_type": "execute_result"
    }
   ],
   "source": [
    "data.isnull().values.any()"
   ]
  },
  {
   "cell_type": "raw",
   "metadata": {},
   "source": [
    "There are no \"Null\" values, so we don't have to work on ways to replace values."
   ]
  },
  {
   "cell_type": "code",
   "execution_count": 21,
   "metadata": {},
   "outputs": [],
   "source": [
    "fraud = data[data['Class'] == 1] \n",
    "valid = data[data['Class'] == 0]"
   ]
  },
  {
   "cell_type": "code",
   "execution_count": 22,
   "metadata": {},
   "outputs": [
    {
     "name": "stdout",
     "output_type": "stream",
     "text": [
      "(492, 31) (284315, 31)\n"
     ]
    }
   ],
   "source": [
    "print(fraud.shape,valid.shape)"
   ]
  },
  {
   "cell_type": "raw",
   "metadata": {},
   "source": [
    " Most of the transactions are non-fraud. If we use this dataframe as the base for our predictive models and analysis we might get a lot of errors and our algorithms will probably overfit since it will \"assume\" that most transactions are not fraud. But we don't want our model to assume, we want our model to detect patterns that give signs of fraud! \n",
    "The data set is highly skewed, consisting of 492 frauds in a total of 284,807 observations. This resulted in only 0.172% fraud cases. This skewed set is justified by the low number of fraudulent transactions."
   ]
  },
  {
   "cell_type": "raw",
   "metadata": {},
   "source": [
    "Now that we have the data, we are using only 3 parameters for now in training the model (Time, Amount, and Class)."
   ]
  },
  {
   "cell_type": "code",
   "execution_count": 24,
   "metadata": {},
   "outputs": [
    {
     "name": "stdout",
     "output_type": "stream",
     "text": [
      "(284807, 2)\n",
      "(284807,)\n"
     ]
    }
   ],
   "source": [
    "# dividing the X and the Y from the dataset \n",
    "#X = data.drop(['Class'], axis = 1)\n",
    "X = data[['Time','Amount']]\n",
    "Y = data[\"Class\"] \n",
    "print(X.shape) \n",
    "print(Y.shape) \n",
    "# getting just the values for the sake of processing  \n",
    "# (its a numpy array with no columns) \n",
    "xData = X.values \n",
    "yData = Y.values "
   ]
  },
  {
   "cell_type": "raw",
   "metadata": {},
   "source": [
    "We are using 80% data on training & 20% data on testing while creating the model. With this set up, We are  now ready to run the data through some models!"
   ]
  },
  {
   "cell_type": "code",
   "execution_count": 25,
   "metadata": {},
   "outputs": [],
   "source": [
    "\n",
    "# Using Skicit-learn to split data into training and testing sets \n",
    "from sklearn.model_selection import train_test_split \n",
    "# Split the data into training and testing sets \n",
    "xTrain, xTest, yTrain, yTest = train_test_split( \n",
    "        xData, yData, test_size = 0.2, random_state = 40)"
   ]
  },
  {
   "cell_type": "raw",
   "metadata": {},
   "source": [
    "The random forest is a supervised learning algorithm that randomly creates and merges multiple decision trees into one “forest.” The goal is not to rely on a single learning model, but rather a collection of decision models to improve accuracy"
   ]
  },
  {
   "cell_type": "code",
   "execution_count": 26,
   "metadata": {},
   "outputs": [],
   "source": [
    "from sklearn.ensemble import RandomForestClassifier \n",
    "# random forest model creation \n",
    "rfc = RandomForestClassifier() \n",
    "rfc.fit(xTrain, yTrain) \n",
    "# predictions \n",
    "yPred = rfc.predict(xTest) "
   ]
  },
  {
   "cell_type": "code",
   "execution_count": 27,
   "metadata": {},
   "outputs": [
    {
     "name": "stdout",
     "output_type": "stream",
     "text": [
      "The accuracy of Render forest is 0.9980513324672589\n"
     ]
    }
   ],
   "source": [
    "from sklearn.metrics import accuracy_score  \n",
    "acc = accuracy_score(yTest, yPred) \n",
    "print(\"The accuracy of Render forest is {}\".format(acc)) \n"
   ]
  },
  {
   "cell_type": "raw",
   "metadata": {},
   "source": [
    "TP = True Positive. Fraudulent transactions the model predicts as fraudulent.\n",
    "TN = True Negative. Normal transactions the model predicts as normal.\n",
    "FP = False Positive. Normal transactions the model predicts as fraudulent.\n",
    "FN = False Negative. Fraudulent transactions the model predicts as normal.\n",
    "\n",
    "Accuracy is the measure of correct predictions made by the model – that is, the ratio of fraud transactions classified as fraud and non-fraud classified as non-fraud to the total transactions in the test data.\n",
    "\n",
    "Lets use other Classification algorithms too!!! "
   ]
  },
  {
   "cell_type": "code",
   "execution_count": 28,
   "metadata": {},
   "outputs": [
    {
     "name": "stdout",
     "output_type": "stream",
     "text": [
      "The accuracy of Naive Bayes is 0.9982971103542713\n"
     ]
    }
   ],
   "source": [
    "from sklearn.naive_bayes import GaussianNB \n",
    "gnb = GaussianNB()\n",
    "gnb.fit(xTrain, yTrain)\n",
    "yPred=gnb.predict(xTest)\n",
    "acc = accuracy_score(yTest, yPred) \n",
    "print(\"The accuracy of Naive Bayes is {}\".format(acc)) \n"
   ]
  },
  {
   "cell_type": "code",
   "execution_count": 29,
   "metadata": {},
   "outputs": [
    {
     "name": "stdout",
     "output_type": "stream",
     "text": [
      "The accuracy of Dummy Classifier is 0.9967171096520487\n"
     ]
    },
    {
     "name": "stderr",
     "output_type": "stream",
     "text": [
      "/home/diwas/.conda/envs/tf/lib/python3.7/site-packages/sklearn/dummy.py:132: FutureWarning: The default value of strategy will change from stratified to prior in 0.24.\n",
      "  \"stratified to prior in 0.24.\", FutureWarning)\n"
     ]
    }
   ],
   "source": [
    "from sklearn.dummy import DummyClassifier\n",
    "dummy = DummyClassifier()\n",
    "dummy.fit(xTrain, yTrain)\n",
    "yPred=dummy.predict(xTest)\n",
    "acc = accuracy_score(yTest, yPred) \n",
    "print(\"The accuracy of Dummy Classifier is {}\".format(acc)) "
   ]
  },
  {
   "cell_type": "code",
   "execution_count": 30,
   "metadata": {},
   "outputs": [
    {
     "name": "stdout",
     "output_type": "stream",
     "text": [
      "The accuracy of SVM is 0.9982971103542713\n"
     ]
    }
   ],
   "source": [
    " \n",
    "from sklearn.svm import SVC\n",
    "svm = SVC()\n",
    "svm.fit(xTrain, yTrain)\n",
    "yPred=svm.predict(xTest)\n",
    "acc = accuracy_score(yTest, yPred) \n",
    "print(\"The accuracy of SVM is {}\".format(acc)) "
   ]
  },
  {
   "cell_type": "raw",
   "metadata": {},
   "source": [
    "Since over 99% of our transactions are non-fraudulent, an algorithm that always predicts that the transaction is non-fraudulent would achieve an accuracy higher than 99%. Owing to such imbalance in data, an algorithm that does not do any feature analysis and predicts all the transactions as non-frauds will also achieve an accuracy of 99.829% (SVM). Therefore, accuracy is not a correct measure of efficiency in our case."
   ]
  },
  {
   "cell_type": "code",
   "execution_count": 31,
   "metadata": {},
   "outputs": [
    {
     "name": "stdout",
     "output_type": "stream",
     "text": [
      "(492, 31)\n"
     ]
    }
   ],
   "source": [
    "print(fraud.shape)"
   ]
  },
  {
   "cell_type": "raw",
   "metadata": {},
   "source": [
    "To create our balanced training data set, We calculated all of the fraudulent transactions in our data set . Then, We randomly selected the same number of non-fraudulent transactions and concatenated the two. There are 492 cases of fraud in our dataset so we can randomly get 492 cases of non-fraud to create our new sub dataframe."
   ]
  },
  {
   "cell_type": "code",
   "execution_count": 32,
   "metadata": {},
   "outputs": [
    {
     "data": {
      "text/html": [
       "<div>\n",
       "<style scoped>\n",
       "    .dataframe tbody tr th:only-of-type {\n",
       "        vertical-align: middle;\n",
       "    }\n",
       "\n",
       "    .dataframe tbody tr th {\n",
       "        vertical-align: top;\n",
       "    }\n",
       "\n",
       "    .dataframe thead th {\n",
       "        text-align: right;\n",
       "    }\n",
       "</style>\n",
       "<table border=\"1\" class=\"dataframe\">\n",
       "  <thead>\n",
       "    <tr style=\"text-align: right;\">\n",
       "      <th></th>\n",
       "      <th>Time</th>\n",
       "      <th>V1</th>\n",
       "      <th>V2</th>\n",
       "      <th>V3</th>\n",
       "      <th>V4</th>\n",
       "      <th>V5</th>\n",
       "      <th>V6</th>\n",
       "      <th>V7</th>\n",
       "      <th>V8</th>\n",
       "      <th>V9</th>\n",
       "      <th>...</th>\n",
       "      <th>V21</th>\n",
       "      <th>V22</th>\n",
       "      <th>V23</th>\n",
       "      <th>V24</th>\n",
       "      <th>V25</th>\n",
       "      <th>V26</th>\n",
       "      <th>V27</th>\n",
       "      <th>V28</th>\n",
       "      <th>Amount</th>\n",
       "      <th>Class</th>\n",
       "    </tr>\n",
       "  </thead>\n",
       "  <tbody>\n",
       "    <tr>\n",
       "      <th>195333</th>\n",
       "      <td>131003.0</td>\n",
       "      <td>0.110005</td>\n",
       "      <td>0.804221</td>\n",
       "      <td>-0.655580</td>\n",
       "      <td>-0.757123</td>\n",
       "      <td>1.080228</td>\n",
       "      <td>-0.244358</td>\n",
       "      <td>0.763154</td>\n",
       "      <td>0.164066</td>\n",
       "      <td>-0.020548</td>\n",
       "      <td>...</td>\n",
       "      <td>-0.337615</td>\n",
       "      <td>-0.960051</td>\n",
       "      <td>0.061174</td>\n",
       "      <td>-0.059050</td>\n",
       "      <td>-0.430303</td>\n",
       "      <td>0.133619</td>\n",
       "      <td>0.203078</td>\n",
       "      <td>0.066234</td>\n",
       "      <td>11.98</td>\n",
       "      <td>0</td>\n",
       "    </tr>\n",
       "    <tr>\n",
       "      <th>263080</th>\n",
       "      <td>160791.0</td>\n",
       "      <td>2.132386</td>\n",
       "      <td>0.705608</td>\n",
       "      <td>-3.530759</td>\n",
       "      <td>0.514779</td>\n",
       "      <td>1.527175</td>\n",
       "      <td>-1.716268</td>\n",
       "      <td>1.132791</td>\n",
       "      <td>-0.574214</td>\n",
       "      <td>0.128904</td>\n",
       "      <td>...</td>\n",
       "      <td>0.163739</td>\n",
       "      <td>0.703910</td>\n",
       "      <td>-0.245076</td>\n",
       "      <td>0.460049</td>\n",
       "      <td>0.920281</td>\n",
       "      <td>-0.216586</td>\n",
       "      <td>-0.026219</td>\n",
       "      <td>-0.025001</td>\n",
       "      <td>1.00</td>\n",
       "      <td>1</td>\n",
       "    </tr>\n",
       "    <tr>\n",
       "      <th>26713</th>\n",
       "      <td>34216.0</td>\n",
       "      <td>1.228822</td>\n",
       "      <td>-0.963173</td>\n",
       "      <td>1.287071</td>\n",
       "      <td>-0.396690</td>\n",
       "      <td>-1.844788</td>\n",
       "      <td>-0.191202</td>\n",
       "      <td>-1.237298</td>\n",
       "      <td>0.217799</td>\n",
       "      <td>-0.160581</td>\n",
       "      <td>...</td>\n",
       "      <td>-0.414214</td>\n",
       "      <td>-0.660434</td>\n",
       "      <td>0.151229</td>\n",
       "      <td>0.538553</td>\n",
       "      <td>-0.091503</td>\n",
       "      <td>0.931367</td>\n",
       "      <td>-0.019130</td>\n",
       "      <td>0.014932</td>\n",
       "      <td>26.99</td>\n",
       "      <td>0</td>\n",
       "    </tr>\n",
       "    <tr>\n",
       "      <th>154234</th>\n",
       "      <td>100924.0</td>\n",
       "      <td>-23.984747</td>\n",
       "      <td>16.697832</td>\n",
       "      <td>-22.209875</td>\n",
       "      <td>9.584969</td>\n",
       "      <td>-16.230439</td>\n",
       "      <td>2.596333</td>\n",
       "      <td>-33.239328</td>\n",
       "      <td>-21.560039</td>\n",
       "      <td>-10.842526</td>\n",
       "      <td>...</td>\n",
       "      <td>-12.615023</td>\n",
       "      <td>5.774087</td>\n",
       "      <td>2.750221</td>\n",
       "      <td>0.513411</td>\n",
       "      <td>-1.608804</td>\n",
       "      <td>-0.459624</td>\n",
       "      <td>-4.626127</td>\n",
       "      <td>-0.334561</td>\n",
       "      <td>1.00</td>\n",
       "      <td>1</td>\n",
       "    </tr>\n",
       "    <tr>\n",
       "      <th>261925</th>\n",
       "      <td>160243.0</td>\n",
       "      <td>-2.783865</td>\n",
       "      <td>1.596824</td>\n",
       "      <td>-2.084844</td>\n",
       "      <td>2.512986</td>\n",
       "      <td>-1.446749</td>\n",
       "      <td>-0.828496</td>\n",
       "      <td>-0.732262</td>\n",
       "      <td>-0.203329</td>\n",
       "      <td>-0.347046</td>\n",
       "      <td>...</td>\n",
       "      <td>0.203563</td>\n",
       "      <td>0.293268</td>\n",
       "      <td>0.199568</td>\n",
       "      <td>0.146868</td>\n",
       "      <td>0.163602</td>\n",
       "      <td>-0.624085</td>\n",
       "      <td>-1.333100</td>\n",
       "      <td>0.428634</td>\n",
       "      <td>156.00</td>\n",
       "      <td>1</td>\n",
       "    </tr>\n",
       "  </tbody>\n",
       "</table>\n",
       "<p>5 rows × 31 columns</p>\n",
       "</div>"
      ],
      "text/plain": [
       "            Time         V1         V2         V3        V4         V5  \\\n",
       "195333  131003.0   0.110005   0.804221  -0.655580 -0.757123   1.080228   \n",
       "263080  160791.0   2.132386   0.705608  -3.530759  0.514779   1.527175   \n",
       "26713    34216.0   1.228822  -0.963173   1.287071 -0.396690  -1.844788   \n",
       "154234  100924.0 -23.984747  16.697832 -22.209875  9.584969 -16.230439   \n",
       "261925  160243.0  -2.783865   1.596824  -2.084844  2.512986  -1.446749   \n",
       "\n",
       "              V6         V7         V8         V9  ...        V21       V22  \\\n",
       "195333 -0.244358   0.763154   0.164066  -0.020548  ...  -0.337615 -0.960051   \n",
       "263080 -1.716268   1.132791  -0.574214   0.128904  ...   0.163739  0.703910   \n",
       "26713  -0.191202  -1.237298   0.217799  -0.160581  ...  -0.414214 -0.660434   \n",
       "154234  2.596333 -33.239328 -21.560039 -10.842526  ... -12.615023  5.774087   \n",
       "261925 -0.828496  -0.732262  -0.203329  -0.347046  ...   0.203563  0.293268   \n",
       "\n",
       "             V23       V24       V25       V26       V27       V28  Amount  \\\n",
       "195333  0.061174 -0.059050 -0.430303  0.133619  0.203078  0.066234   11.98   \n",
       "263080 -0.245076  0.460049  0.920281 -0.216586 -0.026219 -0.025001    1.00   \n",
       "26713   0.151229  0.538553 -0.091503  0.931367 -0.019130  0.014932   26.99   \n",
       "154234  2.750221  0.513411 -1.608804 -0.459624 -4.626127 -0.334561    1.00   \n",
       "261925  0.199568  0.146868  0.163602 -0.624085 -1.333100  0.428634  156.00   \n",
       "\n",
       "        Class  \n",
       "195333      0  \n",
       "263080      1  \n",
       "26713       0  \n",
       "154234      1  \n",
       "261925      1  \n",
       "\n",
       "[5 rows x 31 columns]"
      ]
     },
     "execution_count": 32,
     "metadata": {},
     "output_type": "execute_result"
    }
   ],
   "source": [
    "# Lets shuffle the data before creating the subsamples\n",
    "\n",
    "data1 = data.sample(frac=1)\n",
    "\n",
    "# amount of fraud classes 492 rows.\n",
    "fraud_data1 = data1.loc[data1['Class'] == 1]\n",
    "non_fraud_data1 = data1.loc[data1['Class'] == 0][:492]\n",
    "\n",
    "normal_distributed_data1 = pd.concat([fraud_data1, non_fraud_data1])\n",
    "\n",
    "# Shuffle dataframe rows\n",
    "new_data1 = normal_distributed_data1.sample(frac=1, random_state=42)\n",
    "\n",
    "new_data1.head()"
   ]
  },
  {
   "cell_type": "raw",
   "metadata": {},
   "source": [
    "Down-Sizing is down-sizing method, closely related to the over-sampling method, that was considered\n",
    "in this category (rand_downsize) consists of eliminating, at random, elements of the over-sized class until it\n",
    "matches the size of the other class."
   ]
  },
  {
   "cell_type": "code",
   "execution_count": 33,
   "metadata": {},
   "outputs": [
    {
     "name": "stdout",
     "output_type": "stream",
     "text": [
      "Distribution of the Classes in the subsample dataset\n",
      "1    0.5\n",
      "0    0.5\n",
      "Name: Class, dtype: float64\n"
     ]
    },
    {
     "data": {
      "image/png": "[encoded data removed]",
      "text/plain": [
       "<Figure size 432x288 with 1 Axes>"
      ]
     },
     "metadata": {
      "needs_background": "light"
     },
     "output_type": "display_data"
    }
   ],
   "source": [
    "print('Distribution of the Classes in the subsample dataset')\n",
    "print(new_data1['Class'].value_counts()/len(new_data1))\n",
    "\n",
    "\n",
    "import seaborn as sns\n",
    "import matplotlib.pyplot as plt\n",
    "sns.countplot('Class', data=new_data1)\n",
    "plt.title('Equally Distributed Classes', fontsize=14)\n",
    "plt.show()"
   ]
  },
  {
   "cell_type": "code",
   "execution_count": 34,
   "metadata": {},
   "outputs": [
    {
     "name": "stdout",
     "output_type": "stream",
     "text": [
      "(984, 2)\n",
      "(984,)\n"
     ]
    }
   ],
   "source": [
    "# dividing the X and the Y from the dataset \n",
    "#X = data.drop(['Class'], axis = 1)\n",
    "X = new_data1[['Time','Amount']]\n",
    "Y = new_data1[\"Class\"] \n",
    "print(X.shape) \n",
    "print(Y.shape) \n",
    "# getting just the values for the sake of processing  \n",
    "# (its a numpy array with no columns) \n",
    "xData = X.values \n",
    "yData = Y.values "
   ]
  },
  {
   "cell_type": "code",
   "execution_count": 44,
   "metadata": {},
   "outputs": [],
   "source": [
    "\n",
    "# Using Skicit-learn to split data into training and testing sets \n",
    "from sklearn.model_selection import train_test_split \n",
    "# Split the data into training and testing sets \n",
    "xTrain, xTest, yTrain, yTest = train_test_split( \n",
    "        xData, yData, test_size = 0.2, random_state = 40)"
   ]
  },
  {
   "cell_type": "code",
   "execution_count": null,
   "metadata": {},
   "outputs": [],
   "source": []
  },
  {
   "cell_type": "code",
   "execution_count": 45,
   "metadata": {},
   "outputs": [],
   "source": [
    "from sklearn.ensemble import RandomForestClassifier \n",
    "# random forest model creation \n",
    "rfc = RandomForestClassifier() \n",
    "rfc.fit(xTrain, yTrain) \n",
    "# predictions \n",
    "yPred = rfc.predict(xTest) "
   ]
  },
  {
   "cell_type": "code",
   "execution_count": 46,
   "metadata": {},
   "outputs": [
    {
     "name": "stdout",
     "output_type": "stream",
     "text": [
      "The accuracy of Render forest is 0.7766497461928934\n"
     ]
    }
   ],
   "source": [
    "from sklearn.metrics import accuracy_score  \n",
    "acc = accuracy_score(yTest, yPred) \n",
    "print(\"The accuracy of Render forest is {}\".format(acc)) \n"
   ]
  },
  {
   "cell_type": "raw",
   "metadata": {},
   "source": [
    " our classification models will not perform as accurate as previous because during under-sampling there is information loss as 492 non-fraud transaction were sampled from 284,315 non-fraud transaction. "
   ]
  }
 ],
 "metadata": {
  "kernelspec": {
   "display_name": "Python 3",
   "language": "python",
   "name": "python3"
  },
  "language_info": {
   "codemirror_mode": {
    "name": "ipython",
    "version": 3
   },
   "file_extension": ".py",
   "mimetype": "text/x-python",
   "name": "python",
   "nbconvert_exporter": "python",
   "pygments_lexer": "ipython3",
   "version": "3.7.3"
  }
 },
 "nbformat": 4,
 "nbformat_minor": 2
}
